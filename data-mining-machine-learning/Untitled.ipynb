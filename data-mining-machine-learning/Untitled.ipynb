{
 "cells": [
  {
   "cell_type": "code",
   "execution_count": 12,
   "id": "29f8e8b4-1768-46c5-ad83-c0f915d11db3",
   "metadata": {},
   "outputs": [],
   "source": [
    "import data_pre_processing\n",
    "from sklearn.preprocessing import MinMaxScaler\n",
    "\n"
   ]
  },
  {
   "cell_type": "code",
   "execution_count": null,
   "id": "3c157ab0-ca1d-4cb7-a654-5377e5bb9d31",
   "metadata": {},
   "outputs": [],
   "source": []
  },
  {
   "cell_type": "code",
   "execution_count": 13,
   "id": "d9c9dcdf-e1e2-4ae6-987e-d0ef5e2a643f",
   "metadata": {},
   "outputs": [],
   "source": [
    "df = data_pre_processing.data_pre_processing(\"C:\\\\Users\\\\Administrador\\\\Documents\\\\Dados_estatisticos_avioes.csv\") "
   ]
  },
  {
   "cell_type": "code",
   "execution_count": 14,
   "id": "d3756a8b-fdf1-44bc-b96b-881edcb82816",
   "metadata": {},
   "outputs": [
    {
     "data": {
      "text/plain": [
       "126932.0"
      ]
     },
     "execution_count": 14,
     "metadata": {},
     "output_type": "execute_result"
    }
   ],
   "source": [
    "df.shape[0]/2"
   ]
  },
  {
   "cell_type": "code",
   "execution_count": null,
   "id": "0bff4417-ebb3-4453-b82d-1b63ec88e543",
   "metadata": {},
   "outputs": [],
   "source": []
  },
  {
   "cell_type": "code",
   "execution_count": 15,
   "id": "7d9e99ea-8791-4f78-b60f-c38ecd9b70a5",
   "metadata": {},
   "outputs": [],
   "source": [
    "escala = MinMaxScaler(feature_range = (0,1))\n",
    "escalonado = escala.fit_transform(df)"
   ]
  },
  {
   "cell_type": "code",
   "execution_count": 16,
   "id": "a16dd1e3-c4b9-407a-a4b6-c296e90301f1",
   "metadata": {},
   "outputs": [],
   "source": [
    "treino = df[:126932]\n",
    "teste = df[126932:]"
   ]
  },
  {
   "cell_type": "code",
   "execution_count": 17,
   "id": "6643ab53-af46-4078-afc8-f82fb2e00160",
   "metadata": {},
   "outputs": [],
   "source": [
    "treino_x = treino[[\"EMPRESA (NOME)\",\"MES\",\"AEROPORTO DE ORIGEM (UF)\",\"AEROPORTO DE ORIGEM (REGIAO)\",\"AEROPORTO DE DESTINO (UF)\",\"AEROPORTO DE DESTINO (REGIAO)\",\"DISTANCIA VOADA (KM)\",\"HORAS VOADAS\"]]\n",
    "treino_y = treino[\"GRUPO DE VOO\"]"
   ]
  },
  {
   "cell_type": "code",
   "execution_count": 18,
   "id": "1376be66-1bc7-4751-9c42-cf1f3dc833d7",
   "metadata": {},
   "outputs": [],
   "source": [
    "teste_x = teste[[\"EMPRESA (NOME)\",\"MES\",\"AEROPORTO DE ORIGEM (UF)\",\"AEROPORTO DE ORIGEM (REGIAO)\",\"AEROPORTO DE DESTINO (UF)\",\"AEROPORTO DE DESTINO (REGIAO)\",\"DISTANCIA VOADA (KM)\",\"HORAS VOADAS\"]]\n",
    "teste_y = teste[\"GRUPO DE VOO\"]"
   ]
  },
  {
   "cell_type": "code",
   "execution_count": 21,
   "id": "3f0ed6a5-d94e-4b75-b81c-e7ed1e3cf09c",
   "metadata": {},
   "outputs": [
    {
     "data": {
      "text/html": [
       "<div>\n",
       "<style scoped>\n",
       "    .dataframe tbody tr th:only-of-type {\n",
       "        vertical-align: middle;\n",
       "    }\n",
       "\n",
       "    .dataframe tbody tr th {\n",
       "        vertical-align: top;\n",
       "    }\n",
       "\n",
       "    .dataframe thead th {\n",
       "        text-align: right;\n",
       "    }\n",
       "</style>\n",
       "<table border=\"1\" class=\"dataframe\">\n",
       "  <thead>\n",
       "    <tr style=\"text-align: right;\">\n",
       "      <th></th>\n",
       "      <th>EMPRESA (NOME)</th>\n",
       "      <th>MES</th>\n",
       "      <th>AEROPORTO DE ORIGEM (UF)</th>\n",
       "      <th>AEROPORTO DE ORIGEM (REGIAO)</th>\n",
       "      <th>AEROPORTO DE DESTINO (UF)</th>\n",
       "      <th>AEROPORTO DE DESTINO (REGIAO)</th>\n",
       "      <th>DISTANCIA VOADA (KM)</th>\n",
       "      <th>HORAS VOADAS</th>\n",
       "    </tr>\n",
       "  </thead>\n",
       "  <tbody>\n",
       "    <tr>\n",
       "      <th>225181</th>\n",
       "      <td>0</td>\n",
       "      <td>6</td>\n",
       "      <td>5</td>\n",
       "      <td>3</td>\n",
       "      <td>5</td>\n",
       "      <td>3</td>\n",
       "      <td>10230.0</td>\n",
       "      <td>27.790000</td>\n",
       "    </tr>\n",
       "    <tr>\n",
       "      <th>225182</th>\n",
       "      <td>0</td>\n",
       "      <td>6</td>\n",
       "      <td>5</td>\n",
       "      <td>3</td>\n",
       "      <td>20</td>\n",
       "      <td>3</td>\n",
       "      <td>1688.0</td>\n",
       "      <td>7.180000</td>\n",
       "    </tr>\n",
       "    <tr>\n",
       "      <th>225185</th>\n",
       "      <td>0</td>\n",
       "      <td>7</td>\n",
       "      <td>20</td>\n",
       "      <td>3</td>\n",
       "      <td>20</td>\n",
       "      <td>3</td>\n",
       "      <td>249.0</td>\n",
       "      <td>1.440000</td>\n",
       "    </tr>\n",
       "    <tr>\n",
       "      <th>225186</th>\n",
       "      <td>0</td>\n",
       "      <td>7</td>\n",
       "      <td>20</td>\n",
       "      <td>3</td>\n",
       "      <td>20</td>\n",
       "      <td>3</td>\n",
       "      <td>664.0</td>\n",
       "      <td>3.590000</td>\n",
       "    </tr>\n",
       "    <tr>\n",
       "      <th>225187</th>\n",
       "      <td>0</td>\n",
       "      <td>7</td>\n",
       "      <td>20</td>\n",
       "      <td>3</td>\n",
       "      <td>5</td>\n",
       "      <td>3</td>\n",
       "      <td>513.0</td>\n",
       "      <td>2.430000</td>\n",
       "    </tr>\n",
       "    <tr>\n",
       "      <th>...</th>\n",
       "      <td>...</td>\n",
       "      <td>...</td>\n",
       "      <td>...</td>\n",
       "      <td>...</td>\n",
       "      <td>...</td>\n",
       "      <td>...</td>\n",
       "      <td>...</td>\n",
       "      <td>...</td>\n",
       "    </tr>\n",
       "    <tr>\n",
       "      <th>430978</th>\n",
       "      <td>0</td>\n",
       "      <td>6</td>\n",
       "      <td>28</td>\n",
       "      <td>5</td>\n",
       "      <td>19</td>\n",
       "      <td>1</td>\n",
       "      <td>18186.0</td>\n",
       "      <td>34.000000</td>\n",
       "    </tr>\n",
       "    <tr>\n",
       "      <th>430980</th>\n",
       "      <td>0</td>\n",
       "      <td>6</td>\n",
       "      <td>19</td>\n",
       "      <td>1</td>\n",
       "      <td>23</td>\n",
       "      <td>1</td>\n",
       "      <td>534.0</td>\n",
       "      <td>1.133330</td>\n",
       "    </tr>\n",
       "    <tr>\n",
       "      <th>430981</th>\n",
       "      <td>0</td>\n",
       "      <td>6</td>\n",
       "      <td>19</td>\n",
       "      <td>1</td>\n",
       "      <td>28</td>\n",
       "      <td>5</td>\n",
       "      <td>18186.0</td>\n",
       "      <td>33.816700</td>\n",
       "    </tr>\n",
       "    <tr>\n",
       "      <th>430982</th>\n",
       "      <td>0</td>\n",
       "      <td>6</td>\n",
       "      <td>12</td>\n",
       "      <td>5</td>\n",
       "      <td>28</td>\n",
       "      <td>5</td>\n",
       "      <td>12393.0</td>\n",
       "      <td>26.150000</td>\n",
       "    </tr>\n",
       "    <tr>\n",
       "      <th>430983</th>\n",
       "      <td>0</td>\n",
       "      <td>6</td>\n",
       "      <td>12</td>\n",
       "      <td>5</td>\n",
       "      <td>12</td>\n",
       "      <td>5</td>\n",
       "      <td>0.0</td>\n",
       "      <td>0.833333</td>\n",
       "    </tr>\n",
       "  </tbody>\n",
       "</table>\n",
       "<p>126932 rows × 8 columns</p>\n",
       "</div>"
      ],
      "text/plain": [
       "        EMPRESA (NOME)  MES  AEROPORTO DE ORIGEM (UF)  \\\n",
       "225181               0    6                         5   \n",
       "225182               0    6                         5   \n",
       "225185               0    7                        20   \n",
       "225186               0    7                        20   \n",
       "225187               0    7                        20   \n",
       "...                ...  ...                       ...   \n",
       "430978               0    6                        28   \n",
       "430980               0    6                        19   \n",
       "430981               0    6                        19   \n",
       "430982               0    6                        12   \n",
       "430983               0    6                        12   \n",
       "\n",
       "        AEROPORTO DE ORIGEM (REGIAO)  AEROPORTO DE DESTINO (UF)  \\\n",
       "225181                             3                          5   \n",
       "225182                             3                         20   \n",
       "225185                             3                         20   \n",
       "225186                             3                         20   \n",
       "225187                             3                          5   \n",
       "...                              ...                        ...   \n",
       "430978                             5                         19   \n",
       "430980                             1                         23   \n",
       "430981                             1                         28   \n",
       "430982                             5                         28   \n",
       "430983                             5                         12   \n",
       "\n",
       "        AEROPORTO DE DESTINO (REGIAO)  DISTANCIA VOADA (KM)  HORAS VOADAS  \n",
       "225181                              3               10230.0     27.790000  \n",
       "225182                              3                1688.0      7.180000  \n",
       "225185                              3                 249.0      1.440000  \n",
       "225186                              3                 664.0      3.590000  \n",
       "225187                              3                 513.0      2.430000  \n",
       "...                               ...                   ...           ...  \n",
       "430978                              1               18186.0     34.000000  \n",
       "430980                              1                 534.0      1.133330  \n",
       "430981                              5               18186.0     33.816700  \n",
       "430982                              5               12393.0     26.150000  \n",
       "430983                              5                   0.0      0.833333  \n",
       "\n",
       "[126932 rows x 8 columns]"
      ]
     },
     "execution_count": 21,
     "metadata": {},
     "output_type": "execute_result"
    }
   ],
   "source": [
    "teste_x"
   ]
  },
  {
   "cell_type": "code",
   "execution_count": 30,
   "id": "9031dce5-e1d2-4fbe-981e-a0f1b1635fd2",
   "metadata": {},
   "outputs": [],
   "source": [
    "escala = MinMaxScaler(feature_range = (0,1))\n",
    "teste_x = escala.fit_transform(teste_x)\n",
    "treino_x = escala.fit_transform(treino_x)\n"
   ]
  },
  {
   "cell_type": "code",
   "execution_count": 33,
   "id": "37d84d38-0685-4582-ba51-8962aa2d88a3",
   "metadata": {},
   "outputs": [
    {
     "name": "stderr",
     "output_type": "stream",
     "text": [
      "C:\\ProgramData\\Anaconda3\\lib\\site-packages\\sklearn\\neural_network\\_multilayer_perceptron.py:614: ConvergenceWarning: Stochastic Optimizer: Maximum iterations (100) reached and the optimization hasn't converged yet.\n",
      "  warnings.warn(\n"
     ]
    }
   ],
   "source": [
    "from sklearn.neural_network import MLPClassifier\n",
    "\n",
    "clf = MLPClassifier(hidden_layer_sizes = (8,4,2), max_iter = 100,\n",
    "                                solver = \"sgd\", verbose = 0, tol = 1e-8, random_state = 777,\n",
    "                                learning_rate_init = .05, learning_rate = \"adaptive\", activation = \"tanh\")\n",
    "\n",
    "clf.fit(treino_x, treino_y)\n",
    "y_result = clf.predict(teste_x)"
   ]
  },
  {
   "cell_type": "code",
   "execution_count": 34,
   "id": "cc2839e8-3435-4c44-99f0-3734998152c3",
   "metadata": {},
   "outputs": [
    {
     "name": "stdout",
     "output_type": "stream",
     "text": [
      "[[80793 13912]\n",
      " [15765 16462]]\n",
      "\n",
      "--------------------------------------------------------------------------------\n",
      "\n",
      "              precision    recall  f1-score   support\n",
      "\n",
      "           0       0.84      0.85      0.84     94705\n",
      "           1       0.54      0.51      0.53     32227\n",
      "\n",
      "    accuracy                           0.77    126932\n",
      "   macro avg       0.69      0.68      0.69    126932\n",
      "weighted avg       0.76      0.77      0.76    126932\n",
      "\n"
     ]
    }
   ],
   "source": [
    "# Como availar os resultados?\n",
    "from sklearn.metrics import confusion_matrix\n",
    "from sklearn.metrics import classification_report\n",
    "import sklearn.metrics as metrics\n",
    "\n",
    "print(confusion_matrix(teste_y, y_result))\n",
    "print()\n",
    "print(\"--------------------------------------------------------------------------------\")\n",
    "print()\n",
    "print(classification_report(teste_y, y_result))"
   ]
  },
  {
   "cell_type": "code",
   "execution_count": null,
   "id": "b5734de3-ddd8-4061-abb3-64d9e7ddddf6",
   "metadata": {},
   "outputs": [],
   "source": []
  },
  {
   "cell_type": "code",
   "execution_count": null,
   "id": "d677234e-bb87-4eb4-aac7-4efd8bb4f578",
   "metadata": {},
   "outputs": [],
   "source": []
  }
 ],
 "metadata": {
  "kernelspec": {
   "display_name": "Python 3",
   "language": "python",
   "name": "python3"
  },
  "language_info": {
   "codemirror_mode": {
    "name": "ipython",
    "version": 3
   },
   "file_extension": ".py",
   "mimetype": "text/x-python",
   "name": "python",
   "nbconvert_exporter": "python",
   "pygments_lexer": "ipython3",
   "version": "3.8.8"
  }
 },
 "nbformat": 4,
 "nbformat_minor": 5
}
